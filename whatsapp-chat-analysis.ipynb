{
 "cells": [
  {
   "cell_type": "markdown",
   "metadata": {},
   "source": [
    "# Whatsapp Chat Analysis"
   ]
  },
  {
   "cell_type": "markdown",
   "metadata": {},
   "source": [
    "## Introduction"
   ]
  },
  {
   "cell_type": "markdown",
   "metadata": {},
   "source": [
    "Import Libraries\n",
    "\n",
    "- emojis - to handle emojis with ease\n",
    "- wordcloud - to display the most frequent words "
   ]
  },
  {
   "cell_type": "code",
   "execution_count": 1,
   "metadata": {},
   "outputs": [],
   "source": [
    "!pip install jovian --upgrade --quiet\n",
    "!pip install numpy --upgrade --quiet\n",
    "!pip install pandas --upgrade --quiet\n",
    "!pip install matplotlib --upgrade --quiet\n",
    "!pip install seaborn --upgrade --quiet\n",
    "!pip install wordcloud --upgrade --quiet\n",
    "!pip install emoji  --upgrade --quiet\n",
    "!pip install plotly_express --upgrade --quiet"
   ]
  },
  {
   "cell_type": "code",
   "execution_count": 2,
   "metadata": {},
   "outputs": [
    {
     "name": "stdout",
     "output_type": "stream",
     "text": [
      "Requirement already satisfied: plotly in /Users/ashishkarhade/opt/anaconda3/lib/python3.8/site-packages (4.14.3)\r\n",
      "Requirement already satisfied: retrying>=1.3.3 in /Users/ashishkarhade/opt/anaconda3/lib/python3.8/site-packages (from plotly) (1.3.3)\r\n",
      "Requirement already satisfied: six in /Users/ashishkarhade/opt/anaconda3/lib/python3.8/site-packages (from plotly) (1.15.0)\r\n"
     ]
    }
   ],
   "source": [
    "!pip install plotly"
   ]
  },
  {
   "cell_type": "code",
   "execution_count": 15,
   "metadata": {},
   "outputs": [],
   "source": [
    "#import plotly.express as px\n",
    "import os\n",
    "import pandas as pd\n",
    "import re\n",
    "import datetime as time\n",
    "import numpy as np\n",
    "import matplotlib.pyplot as plt\n",
    "import matplotlib\n",
    "import seaborn as sns\n",
    "#import emoji\n",
    "import re\n",
    "from collections import Counter"
   ]
  },
  {
   "cell_type": "markdown",
   "metadata": {},
   "source": [
    "## Data Processing and Cleaning"
   ]
  },
  {
   "cell_type": "code",
   "execution_count": 18,
   "metadata": {},
   "outputs": [],
   "source": [
    "whatsapp_df = pd.read_fwf('chat.txt', header=None)"
   ]
  },
  {
   "cell_type": "code",
   "execution_count": 19,
   "metadata": {},
   "outputs": [
    {
     "data": {
      "text/html": [
       "<div>\n",
       "<style scoped>\n",
       "    .dataframe tbody tr th:only-of-type {\n",
       "        vertical-align: middle;\n",
       "    }\n",
       "\n",
       "    .dataframe tbody tr th {\n",
       "        vertical-align: top;\n",
       "    }\n",
       "\n",
       "    .dataframe thead th {\n",
       "        text-align: right;\n",
       "    }\n",
       "</style>\n",
       "<table border=\"1\" class=\"dataframe\">\n",
       "  <thead>\n",
       "    <tr style=\"text-align: right;\">\n",
       "      <th></th>\n",
       "      <th>0</th>\n",
       "      <th>1</th>\n",
       "      <th>2</th>\n",
       "      <th>3</th>\n",
       "      <th>4</th>\n",
       "      <th>5</th>\n",
       "    </tr>\n",
       "  </thead>\n",
       "  <tbody>\n",
       "    <tr>\n",
       "      <th>0</th>\n",
       "      <td>17/05/2020,</td>\n",
       "      <td>4:29</td>\n",
       "      <td>pm</td>\n",
       "      <td>-</td>\n",
       "      <td>Jaz: Baby sandal ka size correct hai na 🤪</td>\n",
       "      <td>NaN</td>\n",
       "    </tr>\n",
       "    <tr>\n",
       "      <th>1</th>\n",
       "      <td>17/05/2020,</td>\n",
       "      <td>4:29</td>\n",
       "      <td>pm</td>\n",
       "      <td>-</td>\n",
       "      <td>Shivani Amborkar: Ji ha😂</td>\n",
       "      <td>NaN</td>\n",
       "    </tr>\n",
       "    <tr>\n",
       "      <th>2</th>\n",
       "      <td>17/05/2020,</td>\n",
       "      <td>4:30</td>\n",
       "      <td>pm</td>\n",
       "      <td>-</td>\n",
       "      <td>Jaz: Hehe okay then</td>\n",
       "      <td>NaN</td>\n",
       "    </tr>\n",
       "    <tr>\n",
       "      <th>3</th>\n",
       "      <td>17/05/2020,</td>\n",
       "      <td>4:30</td>\n",
       "      <td>pm</td>\n",
       "      <td>-</td>\n",
       "      <td>Jaz: 😄</td>\n",
       "      <td>NaN</td>\n",
       "    </tr>\n",
       "    <tr>\n",
       "      <th>4</th>\n",
       "      <td>17/05/2020,</td>\n",
       "      <td>4:30</td>\n",
       "      <td>pm</td>\n",
       "      <td>-</td>\n",
       "      <td>Shivani Amborkar: 💋</td>\n",
       "      <td>NaN</td>\n",
       "    </tr>\n",
       "  </tbody>\n",
       "</table>\n",
       "</div>"
      ],
      "text/plain": [
       "             0     1   2  3                                          4    5\n",
       "0  17/05/2020,  4:29  pm  -  Jaz: Baby sandal ka size correct hai na 🤪  NaN\n",
       "1  17/05/2020,  4:29  pm  -                   Shivani Amborkar: Ji ha😂  NaN\n",
       "2  17/05/2020,  4:30  pm  -                        Jaz: Hehe okay then  NaN\n",
       "3  17/05/2020,  4:30  pm  -                                     Jaz: 😄  NaN\n",
       "4  17/05/2020,  4:30  pm  -                        Shivani Amborkar: 💋  NaN"
      ]
     },
     "execution_count": 19,
     "metadata": {},
     "output_type": "execute_result"
    }
   ],
   "source": [
    "whatsapp_df.head()"
   ]
  },
  {
   "cell_type": "code",
   "execution_count": 20,
   "metadata": {},
   "outputs": [
    {
     "data": {
      "text/plain": [
       "(41508, 6)"
      ]
     },
     "execution_count": 20,
     "metadata": {},
     "output_type": "execute_result"
    }
   ],
   "source": [
    "whatsapp_df.shape"
   ]
  },
  {
   "cell_type": "code",
   "execution_count": 21,
   "metadata": {},
   "outputs": [
    {
     "name": "stdout",
     "output_type": "stream",
     "text": [
      "<class 'pandas.core.frame.DataFrame'>\n",
      "RangeIndex: 41508 entries, 0 to 41507\n",
      "Data columns (total 6 columns):\n",
      " #   Column  Non-Null Count  Dtype \n",
      "---  ------  --------------  ----- \n",
      " 0   0       41261 non-null  object\n",
      " 1   1       40996 non-null  object\n",
      " 2   2       40886 non-null  object\n",
      " 3   3       20449 non-null  object\n",
      " 4   4       40734 non-null  object\n",
      " 5   5       1270 non-null   object\n",
      "dtypes: object(6)\n",
      "memory usage: 1.9+ MB\n"
     ]
    }
   ],
   "source": [
    "whatsapp_df.info()"
   ]
  },
  {
   "cell_type": "code",
   "execution_count": 22,
   "metadata": {},
   "outputs": [],
   "source": [
    "def txtTodf(txt_file):\n",
    "    '''Convert WhatsApp chat log text file to a Pandas dataframe.'''\n",
    "    # some regex to account for messages taking up multiple lines\n",
    "    pat = re.compile(r'^(\\d\\d\\/\\d\\d\\/\\d\\d\\d\\d.*?)(?=^^\\d\\d\\/\\d\\d\\/\\d\\d\\d\\d|\\Z)', re.S | re.M)\n",
    "    with open(txt_file) as file:\n",
    "        data = [m.group(1).strip().replace('\\n', ' ') for m in pat.finditer(file.read())]\n",
    "\n",
    "    user     = []; \n",
    "    message  = []; \n",
    "    datetime = []\n",
    "    \n",
    "    for row in data:\n",
    "        # timestamp is before the first dash\n",
    "        datetime.append(row.split(' - ')[0])\n",
    "        # sender is between am/pm, dash and colon\n",
    "        try:\n",
    "            s = re.search('m - (.*?):', row).group(1)\n",
    "            user.append(s)\n",
    "        except:\n",
    "            user.append('')\n",
    "\n",
    "        # message content is after the first colon\n",
    "        try:\n",
    "            message.append(row.split(': ', 1)[1])\n",
    "        except:\n",
    "            message.append('')\n",
    "\n",
    "    df = pd.DataFrame(zip(datetime, user, message), columns=['datetime', 'user', 'message'])\n",
    "    df['datetime'] = pd.to_datetime(df.datetime, format='%d/%m/%Y, %I:%M %p')\n",
    "\n",
    "    # remove events not associated with a sender\n",
    "    df = df[df.user != ''].reset_index(drop=True)\n",
    "    \n",
    "    return df\n",
    "\n",
    "whatsapp_df = txtTodf('Chat.txt')"
   ]
  },
  {
   "cell_type": "code",
   "execution_count": 24,
   "metadata": {},
   "outputs": [
    {
     "data": {
      "text/html": [
       "<div>\n",
       "<style scoped>\n",
       "    .dataframe tbody tr th:only-of-type {\n",
       "        vertical-align: middle;\n",
       "    }\n",
       "\n",
       "    .dataframe tbody tr th {\n",
       "        vertical-align: top;\n",
       "    }\n",
       "\n",
       "    .dataframe thead th {\n",
       "        text-align: right;\n",
       "    }\n",
       "</style>\n",
       "<table border=\"1\" class=\"dataframe\">\n",
       "  <thead>\n",
       "    <tr style=\"text-align: right;\">\n",
       "      <th></th>\n",
       "      <th>datetime</th>\n",
       "      <th>user</th>\n",
       "      <th>message</th>\n",
       "    </tr>\n",
       "  </thead>\n",
       "  <tbody>\n",
       "    <tr>\n",
       "      <th>0</th>\n",
       "      <td>2020-05-17 16:29:00</td>\n",
       "      <td>Jaz</td>\n",
       "      <td>Baby sandal ka size correct hai na 🤪</td>\n",
       "    </tr>\n",
       "    <tr>\n",
       "      <th>1</th>\n",
       "      <td>2020-05-17 16:29:00</td>\n",
       "      <td>Shivani Amborkar</td>\n",
       "      <td>Ji ha😂</td>\n",
       "    </tr>\n",
       "    <tr>\n",
       "      <th>2</th>\n",
       "      <td>2020-05-17 16:30:00</td>\n",
       "      <td>Jaz</td>\n",
       "      <td>Hehe okay then</td>\n",
       "    </tr>\n",
       "    <tr>\n",
       "      <th>3</th>\n",
       "      <td>2020-05-17 16:30:00</td>\n",
       "      <td>Jaz</td>\n",
       "      <td>😄</td>\n",
       "    </tr>\n",
       "    <tr>\n",
       "      <th>4</th>\n",
       "      <td>2020-05-17 16:30:00</td>\n",
       "      <td>Shivani Amborkar</td>\n",
       "      <td>💋</td>\n",
       "    </tr>\n",
       "  </tbody>\n",
       "</table>\n",
       "</div>"
      ],
      "text/plain": [
       "             datetime              user                               message\n",
       "0 2020-05-17 16:29:00               Jaz  Baby sandal ka size correct hai na 🤪\n",
       "1 2020-05-17 16:29:00  Shivani Amborkar                                Ji ha😂\n",
       "2 2020-05-17 16:30:00               Jaz                        Hehe okay then\n",
       "3 2020-05-17 16:30:00               Jaz                                     😄\n",
       "4 2020-05-17 16:30:00  Shivani Amborkar                                     💋"
      ]
     },
     "execution_count": 24,
     "metadata": {},
     "output_type": "execute_result"
    }
   ],
   "source": [
    "whatsapp_df.head()"
   ]
  },
  {
   "cell_type": "code",
   "execution_count": 33,
   "metadata": {},
   "outputs": [],
   "source": [
    "whatsapp_df['user'].replace(to_replace='Jaz', value='Ashiish', inplace=True)"
   ]
  },
  {
   "cell_type": "code",
   "execution_count": 34,
   "metadata": {},
   "outputs": [
    {
     "data": {
      "text/html": [
       "<div>\n",
       "<style scoped>\n",
       "    .dataframe tbody tr th:only-of-type {\n",
       "        vertical-align: middle;\n",
       "    }\n",
       "\n",
       "    .dataframe tbody tr th {\n",
       "        vertical-align: top;\n",
       "    }\n",
       "\n",
       "    .dataframe thead th {\n",
       "        text-align: right;\n",
       "    }\n",
       "</style>\n",
       "<table border=\"1\" class=\"dataframe\">\n",
       "  <thead>\n",
       "    <tr style=\"text-align: right;\">\n",
       "      <th></th>\n",
       "      <th>datetime</th>\n",
       "      <th>user</th>\n",
       "      <th>message</th>\n",
       "    </tr>\n",
       "  </thead>\n",
       "  <tbody>\n",
       "    <tr>\n",
       "      <th>0</th>\n",
       "      <td>2020-05-17 16:29:00</td>\n",
       "      <td>Ashiish</td>\n",
       "      <td>Baby sandal ka size correct hai na 🤪</td>\n",
       "    </tr>\n",
       "    <tr>\n",
       "      <th>1</th>\n",
       "      <td>2020-05-17 16:29:00</td>\n",
       "      <td>Shivani Amborkar</td>\n",
       "      <td>Ji ha😂</td>\n",
       "    </tr>\n",
       "    <tr>\n",
       "      <th>2</th>\n",
       "      <td>2020-05-17 16:30:00</td>\n",
       "      <td>Ashiish</td>\n",
       "      <td>Hehe okay then</td>\n",
       "    </tr>\n",
       "    <tr>\n",
       "      <th>3</th>\n",
       "      <td>2020-05-17 16:30:00</td>\n",
       "      <td>Ashiish</td>\n",
       "      <td>😄</td>\n",
       "    </tr>\n",
       "    <tr>\n",
       "      <th>4</th>\n",
       "      <td>2020-05-17 16:30:00</td>\n",
       "      <td>Shivani Amborkar</td>\n",
       "      <td>💋</td>\n",
       "    </tr>\n",
       "  </tbody>\n",
       "</table>\n",
       "</div>"
      ],
      "text/plain": [
       "             datetime              user                               message\n",
       "0 2020-05-17 16:29:00           Ashiish  Baby sandal ka size correct hai na 🤪\n",
       "1 2020-05-17 16:29:00  Shivani Amborkar                                Ji ha😂\n",
       "2 2020-05-17 16:30:00           Ashiish                        Hehe okay then\n",
       "3 2020-05-17 16:30:00           Ashiish                                     😄\n",
       "4 2020-05-17 16:30:00  Shivani Amborkar                                     💋"
      ]
     },
     "execution_count": 34,
     "metadata": {},
     "output_type": "execute_result"
    }
   ],
   "source": [
    "whatsapp_df.head()"
   ]
  },
  {
   "cell_type": "code",
   "execution_count": 38,
   "metadata": {},
   "outputs": [
    {
     "data": {
      "image/png": "[encoded data removed]",
      "text/plain": [
       "<Figure size 432x288 with 1 Axes>"
      ]
     },
     "metadata": {
      "needs_background": "light"
     },
     "output_type": "display_data"
    }
   ],
   "source": [
    "whatsapp_df.user.value_counts().plot(kind='bar', color='gray')\n",
    "plt.show()"
   ]
  },
  {
   "cell_type": "code",
   "execution_count": 40,
   "metadata": {},
   "outputs": [
    {
     "name": "stderr",
     "output_type": "stream",
     "text": [
      "/Library/Frameworks/Python.framework/Versions/3.7/lib/python3.7/site-packages/ipykernel_launcher.py:1: FutureWarning: Treating datetime data as categorical rather than numeric in `.describe` is deprecated and will be removed in a future version of pandas. Specify `datetime_is_numeric=True` to silence this warning and adopt the future behavior now.\n",
      "  \"\"\"Entry point for launching an IPython kernel.\n"
     ]
    },
    {
     "data": {
      "text/plain": [
       "count                   39990\n",
       "unique                   8284\n",
       "top       2021-01-15 16:39:00\n",
       "freq                       45\n",
       "first     2020-05-17 16:29:00\n",
       "last      2021-02-22 19:14:00\n",
       "Name: datetime, dtype: object"
      ]
     },
     "execution_count": 40,
     "metadata": {},
     "output_type": "execute_result"
    }
   ],
   "source": [
    "whatsapp_df.datetime.describe()"
   ]
  },
  {
   "cell_type": "markdown",
   "metadata": {},
   "source": [
    "## Cleaning Image Data"
   ]
  },
  {
   "cell_type": "code",
   "execution_count": 41,
   "metadata": {},
   "outputs": [],
   "source": [
    "img = whatsapp_df[whatsapp_df['message'] == \"<Media omitted>\" ]"
   ]
  },
  {
   "cell_type": "code",
   "execution_count": 42,
   "metadata": {},
   "outputs": [
    {
     "data": {
      "text/plain": [
       "(1238, 3)"
      ]
     },
     "execution_count": 42,
     "metadata": {},
     "output_type": "execute_result"
    }
   ],
   "source": [
    "img.shape"
   ]
  },
  {
   "cell_type": "code",
   "execution_count": 43,
   "metadata": {},
   "outputs": [],
   "source": [
    "whatsapp_df.drop(img.index, inplace=True)"
   ]
  },
  {
   "cell_type": "code",
   "execution_count": 44,
   "metadata": {},
   "outputs": [
    {
     "data": {
      "text/html": [
       "<div>\n",
       "<style scoped>\n",
       "    .dataframe tbody tr th:only-of-type {\n",
       "        vertical-align: middle;\n",
       "    }\n",
       "\n",
       "    .dataframe tbody tr th {\n",
       "        vertical-align: top;\n",
       "    }\n",
       "\n",
       "    .dataframe thead th {\n",
       "        text-align: right;\n",
       "    }\n",
       "</style>\n",
       "<table border=\"1\" class=\"dataframe\">\n",
       "  <thead>\n",
       "    <tr style=\"text-align: right;\">\n",
       "      <th></th>\n",
       "      <th>datetime</th>\n",
       "      <th>user</th>\n",
       "      <th>message</th>\n",
       "    </tr>\n",
       "  </thead>\n",
       "  <tbody>\n",
       "    <tr>\n",
       "      <th>0</th>\n",
       "      <td>2020-05-17 16:29:00</td>\n",
       "      <td>Ashiish</td>\n",
       "      <td>Baby sandal ka size correct hai na 🤪</td>\n",
       "    </tr>\n",
       "    <tr>\n",
       "      <th>1</th>\n",
       "      <td>2020-05-17 16:29:00</td>\n",
       "      <td>Shivani Amborkar</td>\n",
       "      <td>Ji ha😂</td>\n",
       "    </tr>\n",
       "    <tr>\n",
       "      <th>2</th>\n",
       "      <td>2020-05-17 16:30:00</td>\n",
       "      <td>Ashiish</td>\n",
       "      <td>Hehe okay then</td>\n",
       "    </tr>\n",
       "    <tr>\n",
       "      <th>3</th>\n",
       "      <td>2020-05-17 16:30:00</td>\n",
       "      <td>Ashiish</td>\n",
       "      <td>😄</td>\n",
       "    </tr>\n",
       "    <tr>\n",
       "      <th>4</th>\n",
       "      <td>2020-05-17 16:30:00</td>\n",
       "      <td>Shivani Amborkar</td>\n",
       "      <td>💋</td>\n",
       "    </tr>\n",
       "    <tr>\n",
       "      <th>5</th>\n",
       "      <td>2020-05-17 16:30:00</td>\n",
       "      <td>Shivani Amborkar</td>\n",
       "      <td>Hehe</td>\n",
       "    </tr>\n",
       "    <tr>\n",
       "      <th>6</th>\n",
       "      <td>2020-05-17 16:30:00</td>\n",
       "      <td>Ashiish</td>\n",
       "      <td>Hehe 😘</td>\n",
       "    </tr>\n",
       "    <tr>\n",
       "      <th>7</th>\n",
       "      <td>2020-05-17 16:30:00</td>\n",
       "      <td>Shivani Amborkar</td>\n",
       "      <td>😌</td>\n",
       "    </tr>\n",
       "    <tr>\n",
       "      <th>8</th>\n",
       "      <td>2020-05-17 16:30:00</td>\n",
       "      <td>Ashiish</td>\n",
       "      <td>Mera name dikh rha hai</td>\n",
       "    </tr>\n",
       "    <tr>\n",
       "      <th>9</th>\n",
       "      <td>2020-05-17 16:30:00</td>\n",
       "      <td>Shivani Amborkar</td>\n",
       "      <td>Yessss</td>\n",
       "    </tr>\n",
       "  </tbody>\n",
       "</table>\n",
       "</div>"
      ],
      "text/plain": [
       "             datetime              user                               message\n",
       "0 2020-05-17 16:29:00           Ashiish  Baby sandal ka size correct hai na 🤪\n",
       "1 2020-05-17 16:29:00  Shivani Amborkar                                Ji ha😂\n",
       "2 2020-05-17 16:30:00           Ashiish                        Hehe okay then\n",
       "3 2020-05-17 16:30:00           Ashiish                                     😄\n",
       "4 2020-05-17 16:30:00  Shivani Amborkar                                     💋\n",
       "5 2020-05-17 16:30:00  Shivani Amborkar                                  Hehe\n",
       "6 2020-05-17 16:30:00           Ashiish                                Hehe 😘\n",
       "7 2020-05-17 16:30:00  Shivani Amborkar                                     😌\n",
       "8 2020-05-17 16:30:00           Ashiish                Mera name dikh rha hai\n",
       "9 2020-05-17 16:30:00  Shivani Amborkar                                Yessss"
      ]
     },
     "execution_count": 44,
     "metadata": {},
     "output_type": "execute_result"
    }
   ],
   "source": [
    "whatsapp_df.head(10)"
   ]
  },
  {
   "cell_type": "code",
   "execution_count": 45,
   "metadata": {},
   "outputs": [
    {
     "data": {
      "text/plain": [
       "(38752, 3)"
      ]
     },
     "execution_count": 45,
     "metadata": {},
     "output_type": "execute_result"
    }
   ],
   "source": [
    "whatsapp_df.reset_index(inplace=True, drop=True)\n",
    "whatsapp_df.shape"
   ]
  },
  {
   "cell_type": "markdown",
   "metadata": {},
   "source": [
    "## EDA"
   ]
  },
  {
   "cell_type": "markdown",
   "metadata": {},
   "source": [
    "### Which user has most messages in chat?"
   ]
  },
  {
   "cell_type": "code",
   "execution_count": 46,
   "metadata": {},
   "outputs": [
    {
     "name": "stdout",
     "output_type": "stream",
     "text": [
      "The total of the number of message: 38752\n",
      "User name that involve in the chat: ['Ashiish' 'Shivani Amborkar']\n"
     ]
    }
   ],
   "source": [
    "totalNumberofMessage = whatsapp_df.message.count()\n",
    "username   = whatsapp_df[\"user\"].unique()\n",
    "\n",
    "print('The total of the number of message:', totalNumberofMessage)\n",
    "print('User name that involve in the chat:', username)"
   ]
  },
  {
   "cell_type": "code",
   "execution_count": 47,
   "metadata": {},
   "outputs": [
    {
     "data": {
      "text/html": [
       "<div>\n",
       "<style scoped>\n",
       "    .dataframe tbody tr th:only-of-type {\n",
       "        vertical-align: middle;\n",
       "    }\n",
       "\n",
       "    .dataframe tbody tr th {\n",
       "        vertical-align: top;\n",
       "    }\n",
       "\n",
       "    .dataframe thead th {\n",
       "        text-align: right;\n",
       "    }\n",
       "</style>\n",
       "<table border=\"1\" class=\"dataframe\">\n",
       "  <thead>\n",
       "    <tr style=\"text-align: right;\">\n",
       "      <th></th>\n",
       "      <th>user</th>\n",
       "      <th>Number_of_messages</th>\n",
       "    </tr>\n",
       "  </thead>\n",
       "  <tbody>\n",
       "    <tr>\n",
       "      <th>0</th>\n",
       "      <td>Ashiish</td>\n",
       "      <td>20071</td>\n",
       "    </tr>\n",
       "    <tr>\n",
       "      <th>1</th>\n",
       "      <td>Shivani Amborkar</td>\n",
       "      <td>18681</td>\n",
       "    </tr>\n",
       "  </tbody>\n",
       "</table>\n",
       "</div>"
      ],
      "text/plain": [
       "               user  Number_of_messages\n",
       "0           Ashiish               20071\n",
       "1  Shivani Amborkar               18681"
      ]
     },
     "execution_count": 47,
     "metadata": {},
     "output_type": "execute_result"
    }
   ],
   "source": [
    "#Creating a new dataframe by copying the old dataframe\n",
    "whatsapp_df1 = whatsapp_df.copy()\n",
    "whatsapp_df1['Number_of_messages'] = [1]* whatsapp_df1.shape[0]\n",
    "whatsapp_df1.drop(columns = 'datetime', inplace = True)\n",
    "\n",
    "#We are groupby the user and messages together then we will use count() to count the messages for each of user\n",
    "whatsapp_df1 = whatsapp_df1.groupby('user')['Number_of_messages'].count().sort_values(ascending = False).reset_index() \n",
    "whatsapp_df1"
   ]
  },
  {
   "cell_type": "code",
   "execution_count": 53,
   "metadata": {},
   "outputs": [
    {
     "data": {
      "image/png": "[encoded data removed]",
      "text/plain": [
       "<Figure size 720x576 with 1 Axes>"
      ]
     },
     "metadata": {},
     "output_type": "display_data"
    }
   ],
   "source": [
    "sns.set_style('darkgrid')\n",
    "matplotlib.rcParams['figure.figsize'] = (10, 8)\n",
    "sns.barplot(x=whatsapp_df1.user, y=whatsapp_df1.Number_of_messages, hue=whatsapp_df1.user, palette=\"CMRmap\")\n",
    "plt.show()"
   ]
  },
  {
   "cell_type": "code",
   "execution_count": null,
   "metadata": {},
   "outputs": [],
   "source": []
  }
 ],
 "metadata": {
  "kernelspec": {
   "display_name": "Python 3.7.4 64-bit",
   "language": "python",
   "name": "python37464bitb2a8da4387fe46f49dadb4e8e9833b86"
  },
  "language_info": {
   "codemirror_mode": {
    "name": "ipython",
    "version": 3
   },
   "file_extension": ".py",
   "mimetype": "text/x-python",
   "name": "python",
   "nbconvert_exporter": "python",
   "pygments_lexer": "ipython3",
   "version": "3.7.4"
  }
 },
 "nbformat": 4,
 "nbformat_minor": 4
}
